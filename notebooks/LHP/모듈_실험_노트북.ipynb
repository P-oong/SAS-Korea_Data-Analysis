{
 "cells": [
  {
   "cell_type": "code",
   "execution_count": 4,
   "metadata": {},
   "outputs": [
    {
     "name": "stderr",
     "output_type": "stream",
     "text": [
      "2025-04-18 11:28:30,960 - INFO - 작업 시작\n",
      "2025-04-18 11:28:30,963 - INFO - 데이터 로드 시작\n"
     ]
    },
    {
     "name": "stderr",
     "output_type": "stream",
     "text": [
      "2025-04-18 11:28:31,182 - INFO - 학습 데이터 크기: (26099, 20), 테스트 데이터 크기: (6525, 19)\n",
      "2025-04-18 11:28:31,182 - INFO - 데이터 전처리 시작...\n",
      "2025-04-18 11:28:31,192 - INFO - 시간 관련 특성 생성 시작...\n",
      "2025-04-18 11:28:31,251 - INFO - 기준 시작일: 2022-07-01 00:00:00\n",
      "2025-04-18 11:28:31,307 - INFO - 시간 관련 특성 생성 완료\n",
      "2025-04-18 11:28:31,339 - INFO - 역 관련 지역 수: 9202\n",
      "2025-04-18 11:28:31,355 - INFO - 역 관련 지역 수: 2288\n",
      "2025-04-18 11:28:31,386 - INFO - 읍 관련 지역 수: 1259\n",
      "2025-04-18 11:28:31,400 - INFO - 읍 관련 지역 수: 309\n",
      "2025-04-18 11:28:31,508 - INFO - TOTAL_BIDG 변수에 로그 변환 적용\n",
      "2025-04-18 11:28:31,513 - INFO - FAC_NEIGH_1 변수에 로그 변환 적용\n",
      "2025-04-18 11:28:31,517 - INFO - FAC_NEIGH_2 변수에 로그 변환 적용\n",
      "2025-04-18 11:28:31,521 - INFO - FAC_RETAIL 변수에 로그 변환 적용\n",
      "2025-04-18 11:28:31,525 - INFO - FAC_STAY 변수에 로그 변환 적용\n",
      "2025-04-18 11:28:31,529 - INFO - FAC_LEISURE 변수에 로그 변환 적용\n",
      "2025-04-18 11:28:31,534 - INFO - TOTAL_GAS 변수에 로그 변환 적용\n",
      "2025-04-18 11:28:31,537 - INFO - CMRC_GAS 변수에 로그 변환 적용\n",
      "2025-04-18 11:28:31,543 - INFO - TOTAL_BIDG 변수에 로그 변환 적용\n",
      "2025-04-18 11:28:31,547 - INFO - FAC_NEIGH_1 변수에 로그 변환 적용\n",
      "2025-04-18 11:28:31,549 - INFO - FAC_NEIGH_2 변수에 로그 변환 적용\n",
      "2025-04-18 11:28:31,565 - INFO - FAC_RETAIL 변수에 로그 변환 적용\n",
      "2025-04-18 11:28:31,569 - INFO - FAC_STAY 변수에 로그 변환 적용\n",
      "2025-04-18 11:28:31,571 - INFO - FAC_LEISURE 변수에 로그 변환 적용\n",
      "2025-04-18 11:28:31,575 - INFO - TOTAL_GAS 변수에 로그 변환 적용\n",
      "2025-04-18 11:28:31,579 - INFO - CMRC_GAS 변수에 로그 변환 적용\n",
      "2025-04-18 11:28:31,596 - INFO - 범주형 변수 수: 4\n",
      "2025-04-18 11:28:31,598 - INFO - 수치형 변수 수: 28\n",
      "2025-04-18 11:28:33,430 - INFO - 데이터 전처리 완료\n",
      "2025-04-18 11:28:33,432 - INFO - 최종 학습 데이터 특성 수: 1401\n",
      "2025-04-18 11:28:33,434 - INFO - 최종 테스트 데이터 특성 수: 1401\n",
      "2025-04-18 11:28:33,466 - INFO - XGBoost 모델 학습 시작\n",
      "2025-04-18 11:28:33,469 - INFO - 사용할 파라미터: {'n_estimators': 100, 'max_depth': 9, 'learning_rate': 0.2, 'subsample': 0.8, 'colsample_bytree': 1.0, 'gamma': 0, 'random_state': 42}\n",
      "2025-04-18 11:31:23,842 - INFO - 학습 데이터 RMSE (로그 스케일): 0.3202\n",
      "2025-04-18 11:31:23,845 - INFO - 학습 데이터 RMSE (원래 스케일): 544.2676\n",
      "2025-04-18 11:31:23,848 - INFO - 학습 데이터 R² 점수: 0.9597\n",
      "2025-04-18 11:31:23,957 - INFO - 상위 10개 중요 특성:\n",
      "           feature  importance\n",
      "916       AREA_장지역    0.051215\n",
      "627        AREA_신동    0.024163\n",
      "11       TOTAL_GAS    0.021307\n",
      "929       AREA_전주역    0.017672\n",
      "2      FAC_NEIGH_2    0.013318\n",
      "1337      DIST_익산시    0.011540\n",
      "585     AREA_수성동_1    0.010902\n",
      "925     AREA_전북대학교    0.010570\n",
      "1342  DIST_전주시 완산구    0.010103\n",
      "1209      DIST_군산시    0.009466\n",
      "2025-04-18 11:31:26,510 - INFO - 모델이 저장되었습니다: c:\\Git_project\\SAS-Korea_Data-Analysis\\SAS-Korea_Data-Analysis\\results/models/XGBoost_optimized_20250418_113126.pkl\n",
      "2025-04-18 11:31:27,316 - INFO - 예측 결과가 저장되었습니다: c:\\Git_project\\SAS-Korea_Data-Analysis\\SAS-Korea_Data-Analysis\\results/predictions/XGBoost_optimized_predictions_20250418_113126.csv\n",
      "2025-04-18 11:31:27,319 - INFO - 모든 작업이 성공적으로 완료되었습니다.\n",
      "2025-04-18 11:31:27,322 - INFO - 모델 저장 경로: c:\\Git_project\\SAS-Korea_Data-Analysis\\SAS-Korea_Data-Analysis\\results/models/XGBoost_optimized_20250418_113126.pkl\n",
      "2025-04-18 11:31:27,323 - INFO - 예측 결과 저장 경로: c:\\Git_project\\SAS-Korea_Data-Analysis\\SAS-Korea_Data-Analysis\\results/predictions/XGBoost_optimized_predictions_20250418_113126.csv\n"
     ]
    }
   ],
   "source": [
    "# 방법 1: 전체 스크립트 실행 (간단하고 모든 함수와 변수가 현재 네임스페이스에 로드됨)\n",
    "%run xgboost_model.py\n"
   ]
  },
  {
   "cell_type": "code",
   "execution_count": 4,
   "metadata": {},
   "outputs": [
    {
     "name": "stderr",
     "output_type": "stream",
     "text": [
      "2025-04-24 10:44:19,367 - INFO - 작업 시작\n",
      "2025-04-24 10:44:19,368 - INFO - 데이터 로드 시작\n",
      "2025-04-24 10:44:19,447 - INFO - 학습 데이터 크기: (26099, 20), 테스트 데이터 크기: (6525, 19)\n",
      "2025-04-24 10:44:19,448 - INFO - 데이터 전처리 시작...\n",
      "2025-04-24 10:44:19,448 - INFO - 시간 관련 특성 생성 시작...\n",
      "2025-04-24 10:44:19,469 - INFO - 기준 시작일: 2022-07-01 00:00:00\n",
      "2025-04-24 10:44:19,494 - INFO - 시간 관련 특성 생성 완료\n",
      "2025-04-24 10:44:19,511 - INFO - 역 관련 지역 수: 9202\n",
      "2025-04-24 10:44:19,519 - INFO - 역 관련 지역 수: 2288\n",
      "2025-04-24 10:44:19,536 - INFO - 읍 관련 지역 수: 1259\n",
      "2025-04-24 10:44:19,540 - INFO - 읍 관련 지역 수: 309\n",
      "2025-04-24 10:44:19,575 - INFO - TOTAL_BIDG 변수에 로그 변환 적용\n",
      "2025-04-24 10:44:19,577 - INFO - FAC_NEIGH_1 변수에 로그 변환 적용\n",
      "2025-04-24 10:44:19,578 - INFO - FAC_NEIGH_2 변수에 로그 변환 적용\n",
      "2025-04-24 10:44:19,580 - INFO - FAC_RETAIL 변수에 로그 변환 적용\n",
      "2025-04-24 10:44:19,582 - INFO - FAC_STAY 변수에 로그 변환 적용\n",
      "2025-04-24 10:44:19,583 - INFO - FAC_LEISURE 변수에 로그 변환 적용\n",
      "2025-04-24 10:44:19,585 - INFO - TOTAL_GAS 변수에 로그 변환 적용\n",
      "2025-04-24 10:44:19,586 - INFO - CMRC_GAS 변수에 로그 변환 적용\n",
      "2025-04-24 10:44:19,589 - INFO - TOTAL_BIDG 변수에 로그 변환 적용\n",
      "2025-04-24 10:44:19,590 - INFO - FAC_NEIGH_1 변수에 로그 변환 적용\n",
      "2025-04-24 10:44:19,591 - INFO - FAC_NEIGH_2 변수에 로그 변환 적용\n",
      "2025-04-24 10:44:19,593 - INFO - FAC_RETAIL 변수에 로그 변환 적용\n",
      "2025-04-24 10:44:19,594 - INFO - FAC_STAY 변수에 로그 변환 적용\n",
      "2025-04-24 10:44:19,595 - INFO - FAC_LEISURE 변수에 로그 변환 적용\n",
      "2025-04-24 10:44:19,596 - INFO - TOTAL_GAS 변수에 로그 변환 적용\n",
      "2025-04-24 10:44:19,598 - INFO - CMRC_GAS 변수에 로그 변환 적용\n",
      "2025-04-24 10:44:19,605 - INFO - 범주형 변수 수: 4\n",
      "2025-04-24 10:44:19,606 - INFO - 수치형 변수 수: 28\n",
      "2025-04-24 10:44:19,607 - INFO - 타겟인코딩 적용 시작...\n",
      "2025-04-24 10:44:19,666 - INFO - 타겟인코딩 적용 완료: 4개 변수 처리\n",
      "2025-04-24 10:44:19,754 - INFO - 데이터 전처리 완료\n",
      "2025-04-24 10:44:19,756 - INFO - 최종 학습 데이터 특성 수: 31\n",
      "2025-04-24 10:44:19,756 - INFO - 최종 테스트 데이터 특성 수: 31\n",
      "2025-04-24 10:44:19,759 - INFO - XGBoost 모델 학습 및 k-fold 교차 검증 시작\n",
      "2025-04-24 10:44:19,760 - INFO - 사용할 파라미터: {'n_estimators': 200, 'max_depth': 9, 'learning_rate': 0.2, 'subsample': 0.8, 'colsample_bytree': 1.0, 'gamma': 0, 'random_state': 42}\n",
      "2025-04-24 10:44:26,097 - INFO - 학습 데이터 RMSE (로그 스케일): 0.0679\n",
      "2025-04-24 10:44:26,098 - INFO - 학습 데이터 RMSE (원래 스케일): 107.2425\n",
      "2025-04-24 10:44:26,099 - INFO - 학습 데이터 R² 점수: 0.9982\n",
      "2025-04-24 10:44:26,099 - INFO - 5-fold 교차 검증 시작...\n",
      "2025-04-24 10:44:31,960 - INFO - Fold 1 - RMSE (로그): 0.3670, RMSE (원래): 265.7515, R²: 0.9463\n",
      "2025-04-24 10:44:41,224 - INFO - Fold 2 - RMSE (로그): 0.3262, RMSE (원래): 303.6822, R²: 0.9586\n",
      "2025-04-24 10:44:48,140 - INFO - Fold 3 - RMSE (로그): 0.3449, RMSE (원래): 363.2121, R²: 0.9541\n",
      "2025-04-24 10:44:57,287 - INFO - Fold 4 - RMSE (로그): 0.3086, RMSE (원래): 318.6976, R²: 0.9613\n",
      "2025-04-24 10:45:05,066 - INFO - Fold 5 - RMSE (로그): 0.3318, RMSE (원래): 279.3204, R²: 0.9573\n",
      "2025-04-24 10:45:05,067 - INFO - 5-fold 교차 검증 평균 RMSE (로그 스케일): 0.3357\n",
      "2025-04-24 10:45:05,069 - INFO - 5-fold 교차 검증 평균 RMSE (원래 스케일): 306.1328\n",
      "2025-04-24 10:45:05,070 - INFO - 5-fold 교차 검증 평균 R² 점수: 0.9555\n",
      "2025-04-24 10:45:05,086 - INFO - 상위 10개 중요 특성:\n",
      "        feature  importance\n",
      "11    TOTAL_GAS    0.248997\n",
      "27      AREA_NM    0.203683\n",
      "2   FAC_NEIGH_2    0.114927\n",
      "5    FAC_RETAIL    0.055746\n",
      "1   FAC_NEIGH_1    0.047426\n",
      "9      FAC_STAY    0.030212\n",
      "7      FAC_YOSE    0.029407\n",
      "0    TOTAL_BIDG    0.023317\n",
      "22  quarter_sin    0.023178\n",
      "28      DIST_NM    0.023169\n",
      "2025-04-24 10:45:05,168 - INFO - 모델이 저장되었습니다: c:\\Git_project\\SAS-Korea_Data-Analysis\\SAS-Korea_Data-Analysis\\results/models/XGBoost_optimized_20250424_104505.pkl\n",
      "2025-04-24 10:45:05,413 - INFO - 예측 결과가 저장되었습니다: c:\\Git_project\\SAS-Korea_Data-Analysis\\SAS-Korea_Data-Analysis\\results/predictions/XGBoost_optimized_predictions_20250424_104505.csv\n",
      "2025-04-24 10:45:05,415 - INFO - 모든 작업이 성공적으로 완료되었습니다.\n",
      "2025-04-24 10:45:05,416 - INFO - 모델 저장 경로: c:\\Git_project\\SAS-Korea_Data-Analysis\\SAS-Korea_Data-Analysis\\results/models/XGBoost_optimized_20250424_104505.pkl\n",
      "2025-04-24 10:45:05,417 - INFO - 예측 결과 저장 경로: c:\\Git_project\\SAS-Korea_Data-Analysis\\SAS-Korea_Data-Analysis\\results/predictions/XGBoost_optimized_predictions_20250424_104505.csv\n"
     ]
    }
   ],
   "source": [
    "%run xgboost_model_target_인코딩.py"
   ]
  },
  {
   "cell_type": "code",
   "execution_count": null,
   "metadata": {},
   "outputs": [],
   "source": []
  }
 ],
 "metadata": {
  "kernelspec": {
   "display_name": ".venv",
   "language": "python",
   "name": "python3"
  },
  "language_info": {
   "codemirror_mode": {
    "name": "ipython",
    "version": 3
   },
   "file_extension": ".py",
   "mimetype": "text/x-python",
   "name": "python",
   "nbconvert_exporter": "python",
   "pygments_lexer": "ipython3",
   "version": "3.11.9"
  }
 },
 "nbformat": 4,
 "nbformat_minor": 2
}
