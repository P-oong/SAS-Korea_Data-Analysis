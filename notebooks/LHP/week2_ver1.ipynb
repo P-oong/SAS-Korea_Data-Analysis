{
 "cells": [
  {
   "cell_type": "markdown",
   "metadata": {},
   "source": [
    "git 커밋 한방에 해버려서 되돌리는거(?) 했는데 다 날라가서 아무것도 없는 파일, 실험했던 거 날라감. 반성과 추억으로 남겨둡니다"
   ]
  }
 ],
 "metadata": {
  "language_info": {
   "name": "python"
  }
 },
 "nbformat": 4,
 "nbformat_minor": 2
}
